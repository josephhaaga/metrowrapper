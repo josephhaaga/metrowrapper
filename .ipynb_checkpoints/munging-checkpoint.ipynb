{
 "cells": [
  {
   "cell_type": "code",
   "execution_count": 1,
   "metadata": {
    "collapsed": true
   },
   "outputs": [],
   "source": [
    "import pandas as pd;\n",
    "raw = pd.read_json('arrivals_data/arrivals.json');"
   ]
  },
  {
   "cell_type": "code",
   "execution_count": 10,
   "metadata": {
    "collapsed": false
   },
   "outputs": [
    {
     "data": {
      "text/plain": [
       "2483"
      ]
     },
     "execution_count": 10,
     "metadata": {},
     "output_type": "execute_result"
    }
   ],
   "source": [
    "rockville_arrivals = raw['Rockville'].dropna()\n",
    "len(rockville_arrivals)"
   ]
  },
  {
   "cell_type": "code",
   "execution_count": 14,
   "metadata": {
    "collapsed": false,
    "scrolled": true
   },
   "outputs": [
    {
     "name": "stdout",
     "output_type": "stream",
     "text": [
      "Addison Road-Seat Pleasant\n",
      "Anacostia\n",
      "Archives-Navy Memorial-Penn Quarter\n",
      "Arlington Cemetery\n",
      "Ballston-MU\n",
      "Benning Road\n",
      "Bethesda\n",
      "Braddock Road\n",
      "Branch Ave\n",
      "Brookland-CUA\n",
      "Capitol Heights\n",
      "Capitol South\n",
      "Cheverly\n",
      "Clarendon\n",
      "Cleveland Park\n",
      "College, Park-U of MD\n",
      "Columbia Heights\n",
      "Congress Heights\n",
      "Court House\n",
      "Crystal City\n",
      "Deanwood\n",
      "Dunn Loring-Merrifield\n",
      "Dupont Circle\n",
      "East, Falls Church\n",
      "Eastern Market\n",
      "Eisenhower Avenue\n",
      "Farragut North\n",
      "Farragut, West\n",
      "Federal Center SW\n",
      "Federal Triangle\n",
      "Foggy Bottom-GWU\n",
      "Forest Glen\n",
      "Fort Totten\n",
      "Franconia-Springfield\n",
      "Friendship Heights\n",
      "Gallery Pl-Chinatown\n",
      "Georgia Ave-Petworth\n",
      "Glenmont\n",
      "Greenbelt\n",
      "Greensboro\n",
      "Grosvenor-Strathmore\n",
      "Huntington\n",
      "Judiciary Square\n",
      "King St-Old Town\n",
      "LEnfant Plaza\n",
      "Landover\n",
      "Largo Town Center\n",
      "McLean\n",
      "McPherson Square\n",
      "Medical Center\n",
      "Metro Center\n",
      "Minnesota, Ave\n",
      "Morgan Boulevard\n",
      "Mt Vernon Sq 7th St-Convention Center\n",
      "Navy Yard-Ballpark\n",
      "Naylor Road\n",
      "New Carrollton\n",
      "NoMa-Gallaudet U\n",
      "Pentagon\n",
      "Pentagon City\n",
      "Potomac Ave\n",
      "Prince Georges Plaza\n",
      "Rhode Island Ave-Brentwood\n",
      "Rockville\n",
      "Ronald Reagan Washington National Airport\n",
      "Rosslyn\n",
      "Shady Grove\n",
      "Shaw-Howard U\n",
      "Silver Spring\n",
      "Smithsonian\n",
      "Southern Avenue\n",
      "Spring Hill\n",
      "Stadium-Armory\n",
      "Suitland\n",
      "Takoma\n",
      "Tenleytown-AU\n",
      "Twinbrook\n",
      "Tysons Corner\n",
      "U Street\n",
      "Union Station\n",
      "Van Dorn Street\n",
      "Van Ness-UDC\n",
      "Vienna,\n",
      "Virginia Square-GMU\n",
      "Waterfront\n",
      "West Falls Church-VT\n",
      "West Hyattsville\n",
      "Wheaton\n",
      "White Flint\n",
      "Wiehle-Reston East\n",
      "Woodley Park-Zoo\n",
      "fb\n"
     ]
    }
   ],
   "source": [
    "for key in raw.keys():\n",
    "    print key"
   ]
  },
  {
   "cell_type": "code",
   "execution_count": 17,
   "metadata": {
    "collapsed": false
   },
   "outputs": [],
   "source": [
    "clean=pd.DataFrame()\n",
    "for key in raw.keys():\n",
    "    clean[key]=raw[key].dropna()"
   ]
  },
  {
   "cell_type": "code",
   "execution_count": 22,
   "metadata": {
    "collapsed": false
   },
   "outputs": [
    {
     "data": {
      "text/plain": [
       "{u'current_station': u'Addison Road-Seat Pleasant',\n",
       " u'destination': u'Franconia-Springfield',\n",
       " u'line': u'blue',\n",
       " u'minutes_to_arrival': 28,\n",
       " u'number_of_cars': u'6',\n",
       " u'time': u'2016-05-23 04:30:16'}"
      ]
     },
     "execution_count": 22,
     "metadata": {},
     "output_type": "execute_result"
    }
   ],
   "source": [
    "clean['Addison Road-Seat Pleasant'][1]"
   ]
  },
  {
   "cell_type": "code",
   "execution_count": 37,
   "metadata": {
    "collapsed": false
   },
   "outputs": [
    {
     "data": {
      "text/html": [
       "<div>\n",
       "<table border=\"1\" class=\"dataframe\">\n",
       "  <thead>\n",
       "    <tr style=\"text-align: right;\">\n",
       "      <th></th>\n",
       "      <th>current_station</th>\n",
       "      <th>destination</th>\n",
       "      <th>line</th>\n",
       "      <th>minutes_to_arrival</th>\n",
       "      <th>number_of_cars</th>\n",
       "      <th>time</th>\n",
       "    </tr>\n",
       "  </thead>\n",
       "  <tbody>\n",
       "    <tr>\n",
       "      <th>0</th>\n",
       "      <td>Addison Road-Seat Pleasant</td>\n",
       "      <td>Franconia-Springfield</td>\n",
       "      <td>blue</td>\n",
       "      <td>28</td>\n",
       "      <td>6</td>\n",
       "      <td>2016-05-23 04:30:16</td>\n",
       "    </tr>\n",
       "  </tbody>\n",
       "</table>\n",
       "</div>"
      ],
      "text/plain": [
       "              current_station            destination  line  \\\n",
       "0  Addison Road-Seat Pleasant  Franconia-Springfield  blue   \n",
       "\n",
       "   minutes_to_arrival number_of_cars                 time  \n",
       "0                  28              6  2016-05-23 04:30:16  "
      ]
     },
     "execution_count": 37,
     "metadata": {},
     "output_type": "execute_result"
    }
   ],
   "source": [
    "example_row = pd.io.json.json_normalize(clean['Addison Road-Seat Pleasant'][1])\n",
    "example_row"
   ]
  },
  {
   "cell_type": "code",
   "execution_count": 35,
   "metadata": {
    "collapsed": false
   },
   "outputs": [],
   "source": [
    "clean_normalize = pd.io.json.json_normalize(clean['Addison Road-Seat Pleasant'])\n"
   ]
  },
  {
   "cell_type": "code",
   "execution_count": 61,
   "metadata": {
    "collapsed": false
   },
   "outputs": [
    {
     "ename": "IndentationError",
     "evalue": "expected an indented block (<ipython-input-61-dc52921df60e>, line 6)",
     "output_type": "error",
     "traceback": [
      "\u001b[1;36m  File \u001b[1;32m\"<ipython-input-61-dc52921df60e>\"\u001b[1;36m, line \u001b[1;32m6\u001b[0m\n\u001b[1;33m    #     print pd.io.json.json_normalize(i)\u001b[0m\n\u001b[1;37m                                            ^\u001b[0m\n\u001b[1;31mIndentationError\u001b[0m\u001b[1;31m:\u001b[0m expected an indented block\n"
     ]
    }
   ],
   "source": [
    "cleaned_up = pd.DataFrame(columns=example_row.columns)\n",
    "newObj=pd.Series();\n",
    "for i in clean['Addison Road-Seat Pleasant']:\n",
    "#     cleaned_up.append(pd.io.json.json_normalize(i))\n",
    "\n",
    "#     print pd.io.json.json_normalize(i)\n"
   ]
  },
  {
   "cell_type": "code",
   "execution_count": 63,
   "metadata": {
    "collapsed": false
   },
   "outputs": [],
   "source": [
    "for i in xrange(0,len(clean['Addison Road-Seat Pleasant'])):\n",
    "    cleaned_up[i]=clean['Addison Road-Seat Pleasant'][i]"
   ]
  },
  {
   "cell_type": "code",
   "execution_count": 60,
   "metadata": {
    "collapsed": false
   },
   "outputs": [
    {
     "data": {
      "text/plain": [
       "u'Addison Road-Seat Pleasant'"
      ]
     },
     "execution_count": 60,
     "metadata": {},
     "output_type": "execute_result"
    }
   ],
   "source": [
    "clean['Addison Road-Seat Pleasant'][0]['current_station']"
   ]
  },
  {
   "cell_type": "code",
   "execution_count": 64,
   "metadata": {
    "collapsed": false
   },
   "outputs": [
    {
     "data": {
      "text/html": [
       "<div>\n",
       "<table border=\"1\" class=\"dataframe\">\n",
       "  <thead>\n",
       "    <tr style=\"text-align: right;\">\n",
       "      <th></th>\n",
       "      <th>current_station</th>\n",
       "      <th>destination</th>\n",
       "      <th>line</th>\n",
       "      <th>minutes_to_arrival</th>\n",
       "      <th>number_of_cars</th>\n",
       "      <th>time</th>\n",
       "      <th>0</th>\n",
       "      <th>1</th>\n",
       "      <th>2</th>\n",
       "      <th>3</th>\n",
       "      <th>...</th>\n",
       "      <th>2190</th>\n",
       "      <th>2191</th>\n",
       "      <th>2192</th>\n",
       "      <th>2193</th>\n",
       "      <th>2194</th>\n",
       "      <th>2195</th>\n",
       "      <th>2196</th>\n",
       "      <th>2197</th>\n",
       "      <th>2198</th>\n",
       "      <th>2199</th>\n",
       "    </tr>\n",
       "  </thead>\n",
       "  <tbody>\n",
       "    <tr>\n",
       "      <th>current_station</th>\n",
       "      <td>NaN</td>\n",
       "      <td>NaN</td>\n",
       "      <td>NaN</td>\n",
       "      <td>NaN</td>\n",
       "      <td>NaN</td>\n",
       "      <td>NaN</td>\n",
       "      <td>destination</td>\n",
       "      <td>destination</td>\n",
       "      <td>destination</td>\n",
       "      <td>destination</td>\n",
       "      <td>...</td>\n",
       "      <td>destination</td>\n",
       "      <td>destination</td>\n",
       "      <td>destination</td>\n",
       "      <td>destination</td>\n",
       "      <td>destination</td>\n",
       "      <td>destination</td>\n",
       "      <td>destination</td>\n",
       "      <td>destination</td>\n",
       "      <td>destination</td>\n",
       "      <td>destination</td>\n",
       "    </tr>\n",
       "    <tr>\n",
       "      <th>destination</th>\n",
       "      <td>NaN</td>\n",
       "      <td>NaN</td>\n",
       "      <td>NaN</td>\n",
       "      <td>NaN</td>\n",
       "      <td>NaN</td>\n",
       "      <td>NaN</td>\n",
       "      <td>number_of_cars</td>\n",
       "      <td>number_of_cars</td>\n",
       "      <td>number_of_cars</td>\n",
       "      <td>number_of_cars</td>\n",
       "      <td>...</td>\n",
       "      <td>number_of_cars</td>\n",
       "      <td>number_of_cars</td>\n",
       "      <td>number_of_cars</td>\n",
       "      <td>number_of_cars</td>\n",
       "      <td>number_of_cars</td>\n",
       "      <td>number_of_cars</td>\n",
       "      <td>number_of_cars</td>\n",
       "      <td>number_of_cars</td>\n",
       "      <td>number_of_cars</td>\n",
       "      <td>number_of_cars</td>\n",
       "    </tr>\n",
       "    <tr>\n",
       "      <th>line</th>\n",
       "      <td>NaN</td>\n",
       "      <td>NaN</td>\n",
       "      <td>NaN</td>\n",
       "      <td>NaN</td>\n",
       "      <td>NaN</td>\n",
       "      <td>NaN</td>\n",
       "      <td>minutes_to_arrival</td>\n",
       "      <td>minutes_to_arrival</td>\n",
       "      <td>minutes_to_arrival</td>\n",
       "      <td>minutes_to_arrival</td>\n",
       "      <td>...</td>\n",
       "      <td>minutes_to_arrival</td>\n",
       "      <td>minutes_to_arrival</td>\n",
       "      <td>minutes_to_arrival</td>\n",
       "      <td>minutes_to_arrival</td>\n",
       "      <td>minutes_to_arrival</td>\n",
       "      <td>minutes_to_arrival</td>\n",
       "      <td>minutes_to_arrival</td>\n",
       "      <td>minutes_to_arrival</td>\n",
       "      <td>minutes_to_arrival</td>\n",
       "      <td>minutes_to_arrival</td>\n",
       "    </tr>\n",
       "    <tr>\n",
       "      <th>minutes_to_arrival</th>\n",
       "      <td>NaN</td>\n",
       "      <td>NaN</td>\n",
       "      <td>NaN</td>\n",
       "      <td>NaN</td>\n",
       "      <td>NaN</td>\n",
       "      <td>NaN</td>\n",
       "      <td>time</td>\n",
       "      <td>time</td>\n",
       "      <td>time</td>\n",
       "      <td>time</td>\n",
       "      <td>...</td>\n",
       "      <td>time</td>\n",
       "      <td>time</td>\n",
       "      <td>time</td>\n",
       "      <td>time</td>\n",
       "      <td>time</td>\n",
       "      <td>time</td>\n",
       "      <td>time</td>\n",
       "      <td>time</td>\n",
       "      <td>time</td>\n",
       "      <td>time</td>\n",
       "    </tr>\n",
       "    <tr>\n",
       "      <th>number_of_cars</th>\n",
       "      <td>NaN</td>\n",
       "      <td>NaN</td>\n",
       "      <td>NaN</td>\n",
       "      <td>NaN</td>\n",
       "      <td>NaN</td>\n",
       "      <td>NaN</td>\n",
       "      <td>current_station</td>\n",
       "      <td>current_station</td>\n",
       "      <td>current_station</td>\n",
       "      <td>current_station</td>\n",
       "      <td>...</td>\n",
       "      <td>current_station</td>\n",
       "      <td>current_station</td>\n",
       "      <td>current_station</td>\n",
       "      <td>current_station</td>\n",
       "      <td>current_station</td>\n",
       "      <td>current_station</td>\n",
       "      <td>current_station</td>\n",
       "      <td>current_station</td>\n",
       "      <td>current_station</td>\n",
       "      <td>current_station</td>\n",
       "    </tr>\n",
       "    <tr>\n",
       "      <th>time</th>\n",
       "      <td>NaN</td>\n",
       "      <td>NaN</td>\n",
       "      <td>NaN</td>\n",
       "      <td>NaN</td>\n",
       "      <td>NaN</td>\n",
       "      <td>NaN</td>\n",
       "      <td>line</td>\n",
       "      <td>line</td>\n",
       "      <td>line</td>\n",
       "      <td>line</td>\n",
       "      <td>...</td>\n",
       "      <td>line</td>\n",
       "      <td>line</td>\n",
       "      <td>line</td>\n",
       "      <td>line</td>\n",
       "      <td>line</td>\n",
       "      <td>line</td>\n",
       "      <td>line</td>\n",
       "      <td>line</td>\n",
       "      <td>line</td>\n",
       "      <td>line</td>\n",
       "    </tr>\n",
       "  </tbody>\n",
       "</table>\n",
       "<p>6 rows × 2206 columns</p>\n",
       "</div>"
      ],
      "text/plain": [
       "                   current_station destination line minutes_to_arrival  \\\n",
       "current_station                NaN         NaN  NaN                NaN   \n",
       "destination                    NaN         NaN  NaN                NaN   \n",
       "line                           NaN         NaN  NaN                NaN   \n",
       "minutes_to_arrival             NaN         NaN  NaN                NaN   \n",
       "number_of_cars                 NaN         NaN  NaN                NaN   \n",
       "time                           NaN         NaN  NaN                NaN   \n",
       "\n",
       "                   number_of_cars time                   0  \\\n",
       "current_station               NaN  NaN         destination   \n",
       "destination                   NaN  NaN      number_of_cars   \n",
       "line                          NaN  NaN  minutes_to_arrival   \n",
       "minutes_to_arrival            NaN  NaN                time   \n",
       "number_of_cars                NaN  NaN     current_station   \n",
       "time                          NaN  NaN                line   \n",
       "\n",
       "                                     1                   2  \\\n",
       "current_station            destination         destination   \n",
       "destination             number_of_cars      number_of_cars   \n",
       "line                minutes_to_arrival  minutes_to_arrival   \n",
       "minutes_to_arrival                time                time   \n",
       "number_of_cars         current_station     current_station   \n",
       "time                              line                line   \n",
       "\n",
       "                                     3         ...          \\\n",
       "current_station            destination         ...           \n",
       "destination             number_of_cars         ...           \n",
       "line                minutes_to_arrival         ...           \n",
       "minutes_to_arrival                time         ...           \n",
       "number_of_cars         current_station         ...           \n",
       "time                              line         ...           \n",
       "\n",
       "                                  2190                2191  \\\n",
       "current_station            destination         destination   \n",
       "destination             number_of_cars      number_of_cars   \n",
       "line                minutes_to_arrival  minutes_to_arrival   \n",
       "minutes_to_arrival                time                time   \n",
       "number_of_cars         current_station     current_station   \n",
       "time                              line                line   \n",
       "\n",
       "                                  2192                2193  \\\n",
       "current_station            destination         destination   \n",
       "destination             number_of_cars      number_of_cars   \n",
       "line                minutes_to_arrival  minutes_to_arrival   \n",
       "minutes_to_arrival                time                time   \n",
       "number_of_cars         current_station     current_station   \n",
       "time                              line                line   \n",
       "\n",
       "                                  2194                2195  \\\n",
       "current_station            destination         destination   \n",
       "destination             number_of_cars      number_of_cars   \n",
       "line                minutes_to_arrival  minutes_to_arrival   \n",
       "minutes_to_arrival                time                time   \n",
       "number_of_cars         current_station     current_station   \n",
       "time                              line                line   \n",
       "\n",
       "                                  2196                2197  \\\n",
       "current_station            destination         destination   \n",
       "destination             number_of_cars      number_of_cars   \n",
       "line                minutes_to_arrival  minutes_to_arrival   \n",
       "minutes_to_arrival                time                time   \n",
       "number_of_cars         current_station     current_station   \n",
       "time                              line                line   \n",
       "\n",
       "                                  2198                2199  \n",
       "current_station            destination         destination  \n",
       "destination             number_of_cars      number_of_cars  \n",
       "line                minutes_to_arrival  minutes_to_arrival  \n",
       "minutes_to_arrival                time                time  \n",
       "number_of_cars         current_station     current_station  \n",
       "time                              line                line  \n",
       "\n",
       "[6 rows x 2206 columns]"
      ]
     },
     "execution_count": 64,
     "metadata": {},
     "output_type": "execute_result"
    }
   ],
   "source": [
    "cleaned_up"
   ]
  }
 ],
 "metadata": {
  "kernelspec": {
   "display_name": "Python 2",
   "language": "python",
   "name": "python2"
  },
  "language_info": {
   "codemirror_mode": {
    "name": "ipython",
    "version": 2
   },
   "file_extension": ".py",
   "mimetype": "text/x-python",
   "name": "python",
   "nbconvert_exporter": "python",
   "pygments_lexer": "ipython2",
   "version": "2.7.11"
  }
 },
 "nbformat": 4,
 "nbformat_minor": 0
}
