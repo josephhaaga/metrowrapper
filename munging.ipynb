{
 "cells": [
  {
   "cell_type": "code",
   "execution_count": 69,
   "metadata": {
    "collapsed": false
   },
   "outputs": [],
   "source": [
    "import pandas as pd;\n",
    "import matplotlib;\n",
    "%matplotlib inline\n",
    "raw = pd.read_json('arrivals_data/arrivals.json');\n"
   ]
  },
  {
   "cell_type": "code",
   "execution_count": 62,
   "metadata": {
    "collapsed": false
   },
   "outputs": [],
   "source": [
    "rockville_arrivals = raw['Rockville'].dropna()\n",
    "len(rockville_arrivals)\n",
    "# rockvilleDF = pd.DataFrame(rockville_arrivals,columns=['destination'])\n",
    "rockvilleDf = pd.DataFrame(columns=rockville_arrivals[0].keys(),index=xrange(0,len(rockville_arrivals)-1))\n",
    "# newDf.append(rockville_arrivals[1],ignore_index=True)\n",
    "# newDf.append(rockville_arrivals[2])\n",
    "rockvilleDf.loc[0] = rockville_arrivals[0]\n",
    "rockvilleDf.loc[1] = rockville_arrivals[1]\n",
    "for i in xrange(0,len(rockville_arrivals)-1):\n",
    "    rockvilleDf.loc[i]=rockville_arrivals[i]"
   ]
  },
  {
   "cell_type": "code",
   "execution_count": 70,
   "metadata": {
    "collapsed": false
   },
   "outputs": [
    {
     "data": {
      "text/plain": [
       "<matplotlib.axes._subplots.AxesSubplot at 0x7f59e8d87d50>"
      ]
     },
     "execution_count": 70,
     "metadata": {},
     "output_type": "execute_result"
    },
    {
     "data": {
      "image/png": "[encoded data removed]",
      "text/plain": [
       "<matplotlib.figure.Figure at 0x7f59e8d87590>"
      ]
     },
     "metadata": {},
     "output_type": "display_data"
    }
   ],
   "source": [
    "rockvilleDf.destination.unique()\n",
    "rockvilleDf.minutes_to_arrival.hist()"
   ]
  },
  {
   "cell_type": "code",
   "execution_count": 64,
   "metadata": {
    "collapsed": false
   },
   "outputs": [
    {
     "data": {
      "text/html": [
       "<div>\n",
       "<table border=\"1\" class=\"dataframe\">\n",
       "  <thead>\n",
       "    <tr style=\"text-align: right;\">\n",
       "      <th></th>\n",
       "      <th>destination</th>\n",
       "      <th>number_of_cars</th>\n",
       "      <th>minutes_to_arrival</th>\n",
       "      <th>time</th>\n",
       "      <th>current_station</th>\n",
       "      <th>line</th>\n",
       "    </tr>\n",
       "  </thead>\n",
       "  <tbody>\n",
       "    <tr>\n",
       "      <th>count</th>\n",
       "      <td>2482</td>\n",
       "      <td>2482</td>\n",
       "      <td>2482</td>\n",
       "      <td>2482</td>\n",
       "      <td>2482</td>\n",
       "      <td>2482</td>\n",
       "    </tr>\n",
       "    <tr>\n",
       "      <th>unique</th>\n",
       "      <td>5</td>\n",
       "      <td>2</td>\n",
       "      <td>40</td>\n",
       "      <td>753</td>\n",
       "      <td>1</td>\n",
       "      <td>1</td>\n",
       "    </tr>\n",
       "    <tr>\n",
       "      <th>top</th>\n",
       "      <td>Shady Grove</td>\n",
       "      <td>6</td>\n",
       "      <td>3</td>\n",
       "      <td>2016-05-27 06:00:53</td>\n",
       "      <td>Rockville</td>\n",
       "      <td>red</td>\n",
       "    </tr>\n",
       "    <tr>\n",
       "      <th>freq</th>\n",
       "      <td>1563</td>\n",
       "      <td>1307</td>\n",
       "      <td>167</td>\n",
       "      <td>6</td>\n",
       "      <td>2482</td>\n",
       "      <td>2482</td>\n",
       "    </tr>\n",
       "  </tbody>\n",
       "</table>\n",
       "</div>"
      ],
      "text/plain": [
       "        destination number_of_cars  minutes_to_arrival                 time  \\\n",
       "count          2482           2482                2482                 2482   \n",
       "unique            5              2                  40                  753   \n",
       "top     Shady Grove              6                   3  2016-05-27 06:00:53   \n",
       "freq           1563           1307                 167                    6   \n",
       "\n",
       "       current_station  line  \n",
       "count             2482  2482  \n",
       "unique               1     1  \n",
       "top          Rockville   red  \n",
       "freq              2482  2482  "
      ]
     },
     "execution_count": 64,
     "metadata": {},
     "output_type": "execute_result"
    }
   ],
   "source": [
    "rockvilleDf.describe()\n",
    "# perhaps Shady Grove is where the trains are kept when Metro is closed?"
   ]
  },
  {
   "cell_type": "code",
   "execution_count": 4,
   "metadata": {
    "collapsed": false
   },
   "outputs": [],
   "source": [
    "clean=pd.DataFrame()\n",
    "for key in raw.keys():\n",
    "    clean[key]=raw[key].dropna()"
   ]
  },
  {
   "cell_type": "code",
   "execution_count": 5,
   "metadata": {
    "collapsed": false,
    "scrolled": true
   },
   "outputs": [
    {
     "data": {
      "text/plain": [
       "{u'current_station': u'Addison Road-Seat Pleasant',\n",
       " u'destination': u'Franconia-Springfield',\n",
       " u'line': u'blue',\n",
       " u'minutes_to_arrival': 28,\n",
       " u'number_of_cars': u'6',\n",
       " u'time': u'2016-05-23 04:30:16'}"
      ]
     },
     "execution_count": 5,
     "metadata": {},
     "output_type": "execute_result"
    }
   ],
   "source": [
    "clean['Addison Road-Seat Pleasant'][1]"
   ]
  },
  {
   "cell_type": "code",
   "execution_count": 6,
   "metadata": {
    "collapsed": false
   },
   "outputs": [
    {
     "data": {
      "text/html": [
       "<div>\n",
       "<table border=\"1\" class=\"dataframe\">\n",
       "  <thead>\n",
       "    <tr style=\"text-align: right;\">\n",
       "      <th></th>\n",
       "      <th>current_station</th>\n",
       "      <th>destination</th>\n",
       "      <th>line</th>\n",
       "      <th>minutes_to_arrival</th>\n",
       "      <th>number_of_cars</th>\n",
       "      <th>time</th>\n",
       "    </tr>\n",
       "  </thead>\n",
       "  <tbody>\n",
       "    <tr>\n",
       "      <th>0</th>\n",
       "      <td>Addison Road-Seat Pleasant</td>\n",
       "      <td>Franconia-Springfield</td>\n",
       "      <td>blue</td>\n",
       "      <td>28</td>\n",
       "      <td>6</td>\n",
       "      <td>2016-05-23 04:30:16</td>\n",
       "    </tr>\n",
       "  </tbody>\n",
       "</table>\n",
       "</div>"
      ],
      "text/plain": [
       "              current_station            destination  line  \\\n",
       "0  Addison Road-Seat Pleasant  Franconia-Springfield  blue   \n",
       "\n",
       "   minutes_to_arrival number_of_cars                 time  \n",
       "0                  28              6  2016-05-23 04:30:16  "
      ]
     },
     "execution_count": 6,
     "metadata": {},
     "output_type": "execute_result"
    }
   ],
   "source": [
    "example_row = pd.io.json.json_normalize(clean['Addison Road-Seat Pleasant'][1])\n",
    "example_row"
   ]
  },
  {
   "cell_type": "code",
   "execution_count": 7,
   "metadata": {
    "collapsed": false
   },
   "outputs": [],
   "source": [
    "clean_normalize = pd.io.json.json_normalize(clean['Addison Road-Seat Pleasant'])\n"
   ]
  },
  {
   "cell_type": "code",
   "execution_count": 10,
   "metadata": {
    "collapsed": false
   },
   "outputs": [
    {
     "data": {
      "text/plain": [
       "{u'current_station': u'Addison Road-Seat Pleasant',\n",
       " u'destination': u'Franconia-Springfield',\n",
       " u'line': u'blue',\n",
       " u'minutes_to_arrival': 28,\n",
       " u'number_of_cars': u'6',\n",
       " u'time': u'2016-05-23 04:30:16'}"
      ]
     },
     "execution_count": 10,
     "metadata": {},
     "output_type": "execute_result"
    }
   ],
   "source": [
    "cleaned_up = pd.DataFrame(columns=example_row.columns)\n",
    "newObj=pd.Series();\n",
    "# for i in clean['Addison Road-Seat Pleasant']:\n",
    "#     cleaned_up.append(pd.io.json.json_normalize(i))\n",
    "clean['Addison Road-Seat Pleasant'][1]"
   ]
  },
  {
   "cell_type": "code",
   "execution_count": null,
   "metadata": {
    "collapsed": false
   },
   "outputs": [],
   "source": [
    "for i in xrange(0,len(clean['Addison Road-Seat Pleasant'])):\n",
    "    cleaned_up[i]=clean['Addison Road-Seat Pleasant'][i]"
   ]
  },
  {
   "cell_type": "code",
   "execution_count": null,
   "metadata": {
    "collapsed": false
   },
   "outputs": [],
   "source": [
    "clean['Addison Road-Seat Pleasant'][0]['current_station']"
   ]
  },
  {
   "cell_type": "code",
   "execution_count": null,
   "metadata": {
    "collapsed": false
   },
   "outputs": [],
   "source": [
    "cleaned_up"
   ]
  }
 ],
 "metadata": {
  "kernelspec": {
   "display_name": "Python 2",
   "language": "python",
   "name": "python2"
  },
  "language_info": {
   "codemirror_mode": {
    "name": "ipython",
    "version": 2
   },
   "file_extension": ".py",
   "mimetype": "text/x-python",
   "name": "python",
   "nbconvert_exporter": "python",
   "pygments_lexer": "ipython2",
   "version": "2.7.11"
  }
 },
 "nbformat": 4,
 "nbformat_minor": 0
}
