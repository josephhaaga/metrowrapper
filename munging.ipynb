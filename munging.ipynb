{
 "cells": [
  {
   "cell_type": "code",
   "execution_count": 14,
   "metadata": {
    "collapsed": false
   },
   "outputs": [],
   "source": [
    "import pandas as pd;\n",
    "import matplotlib;\n",
    "from matplotlib import pyplot;\n",
    "import numpy as np;\n",
    "%matplotlib inline\n",
    "raw = pd.read_json('arrivals_data/arrivals.json');\n",
    "rockville_arrivals = raw['Rockville'].dropna()\n",
    "len(rockville_arrivals)"
   ]
  },
  {
   "cell_type": "code",
   "execution_count": 3,
   "metadata": {
    "collapsed": false
   },
   "outputs": [],
   "source": [
    "rockvilleDf = pd.DataFrame(columns=rockville_arrivals[0].keys(),index=xrange(0,len(rockville_arrivals)-1))\n",
    "for i in xrange(0,len(rockville_arrivals)-1):\n",
    "    rockvilleDf.loc[i]=rockville_arrivals[i]"
   ]
  },
  {
   "cell_type": "code",
   "execution_count": 27,
   "metadata": {
    "collapsed": false
   },
   "outputs": [
    {
     "data": {
      "text/plain": [
       "<matplotlib.axes._subplots.AxesSubplot at 0x7f433f6e9890>"
      ]
     },
     "execution_count": 27,
     "metadata": {},
     "output_type": "execute_result"
    },
    {
     "data": {
      "image/png": "[encoded data removed]",
      "text/plain": [
       "<matplotlib.figure.Figure at 0x7f433a0d3990>"
      ]
     },
     "metadata": {},
     "output_type": "display_data"
    }
   ],
   "source": [
    "dupont_arrivals=raw['Dupont Circle'].dropna();\n",
    "dupontDf = pd.DataFrame(columns=dupont_arrivals[0].keys(),index=xrange(0,len(dupont_arrivals)-1))\n",
    "for i in xrange(0,len(dupont_arrivals)-1):\n",
    "    dupontDf.loc[i]=dupont_arrivals[i]\n",
    "dupontDf.minutes_to_arrival.hist()"
   ]
  },
  {
   "cell_type": "code",
   "execution_count": 48,
   "metadata": {
    "collapsed": false
   },
   "outputs": [
    {
     "data": {
      "image/png": "[encoded data removed]",
      "text/plain": [
       "<matplotlib.figure.Figure at 0x7f4346cf7f90>"
      ]
     },
     "metadata": {},
     "output_type": "display_data"
    }
   ],
   "source": [
    "rockvilleDf.destination.unique()\n",
    "plot = rockvilleDf.minutes_to_arrival.hist()\n",
    "# pyplot.hist([dupontDf,rockvilleDf])"
   ]
  },
  {
   "cell_type": "code",
   "execution_count": 52,
   "metadata": {
    "collapsed": false
   },
   "outputs": [
    {
     "data": {
      "image/png": "[encoded data removed]",
      "text/plain": [
       "<matplotlib.figure.Figure at 0x7f434cd22490>"
      ]
     },
     "metadata": {},
     "output_type": "display_data"
    }
   ],
   "source": [
    "import matplotlib.pyplot as plt\n",
    "plt.hist(dupontDf.minutes_to_arrival,color='r',alpha=0.4,label=\"Dupont Circle\")\n",
    "plt.hist(rockvilleDf.minutes_to_arrival,color='b',alpha=0.4,label=\"Rockville\")\n",
    "plt.legend()\n",
    "plt.title('Minutes To Arrival')\n",
    "plt.show()\n"
   ]
  },
  {
   "cell_type": "code",
   "execution_count": 5,
   "metadata": {
    "collapsed": false
   },
   "outputs": [
    {
     "data": {
      "text/html": [
       "<div>\n",
       "<table border=\"1\" class=\"dataframe\">\n",
       "  <thead>\n",
       "    <tr style=\"text-align: right;\">\n",
       "      <th></th>\n",
       "      <th>destination</th>\n",
       "      <th>number_of_cars</th>\n",
       "      <th>minutes_to_arrival</th>\n",
       "      <th>time</th>\n",
       "      <th>current_station</th>\n",
       "      <th>line</th>\n",
       "    </tr>\n",
       "  </thead>\n",
       "  <tbody>\n",
       "    <tr>\n",
       "      <th>count</th>\n",
       "      <td>2482</td>\n",
       "      <td>2482</td>\n",
       "      <td>2482</td>\n",
       "      <td>2482</td>\n",
       "      <td>2482</td>\n",
       "      <td>2482</td>\n",
       "    </tr>\n",
       "    <tr>\n",
       "      <th>unique</th>\n",
       "      <td>5</td>\n",
       "      <td>2</td>\n",
       "      <td>40</td>\n",
       "      <td>753</td>\n",
       "      <td>1</td>\n",
       "      <td>1</td>\n",
       "    </tr>\n",
       "    <tr>\n",
       "      <th>top</th>\n",
       "      <td>Shady Grove</td>\n",
       "      <td>6</td>\n",
       "      <td>3</td>\n",
       "      <td>2016-05-27 06:00:53</td>\n",
       "      <td>Rockville</td>\n",
       "      <td>red</td>\n",
       "    </tr>\n",
       "    <tr>\n",
       "      <th>freq</th>\n",
       "      <td>1563</td>\n",
       "      <td>1307</td>\n",
       "      <td>167</td>\n",
       "      <td>6</td>\n",
       "      <td>2482</td>\n",
       "      <td>2482</td>\n",
       "    </tr>\n",
       "  </tbody>\n",
       "</table>\n",
       "</div>"
      ],
      "text/plain": [
       "        destination number_of_cars  minutes_to_arrival                 time  \\\n",
       "count          2482           2482                2482                 2482   \n",
       "unique            5              2                  40                  753   \n",
       "top     Shady Grove              6                   3  2016-05-27 06:00:53   \n",
       "freq           1563           1307                 167                    6   \n",
       "\n",
       "       current_station  line  \n",
       "count             2482  2482  \n",
       "unique               1     1  \n",
       "top          Rockville   red  \n",
       "freq              2482  2482  "
      ]
     },
     "execution_count": 5,
     "metadata": {},
     "output_type": "execute_result"
    }
   ],
   "source": [
    "rockvilleDf.describe()\n",
    "# perhaps Shady Grove is where the trains are kept when Metro is closed?"
   ]
  }
 ],
 "metadata": {
  "kernelspec": {
   "display_name": "Python 2",
   "language": "python",
   "name": "python2"
  },
  "language_info": {
   "codemirror_mode": {
    "name": "ipython",
    "version": 2
   },
   "file_extension": ".py",
   "mimetype": "text/x-python",
   "name": "python",
   "nbconvert_exporter": "python",
   "pygments_lexer": "ipython2",
   "version": "2.7.11"
  }
 },
 "nbformat": 4,
 "nbformat_minor": 0
}
